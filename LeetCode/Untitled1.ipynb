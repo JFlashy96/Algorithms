{
 "cells": [
  {
   "cell_type": "code",
   "execution_count": 18,
   "id": "abda5395",
   "metadata": {},
   "outputs": [
    {
     "ename": "SyntaxError",
     "evalue": "invalid syntax (<ipython-input-18-ddcb2280d34f>, line 15)",
     "output_type": "error",
     "traceback": [
      "\u001b[0;36m  File \u001b[0;32m\"<ipython-input-18-ddcb2280d34f>\"\u001b[0;36m, line \u001b[0;32m15\u001b[0m\n\u001b[0;31m    solution = Solution():\u001b[0m\n\u001b[0m                         ^\u001b[0m\n\u001b[0;31mSyntaxError\u001b[0m\u001b[0;31m:\u001b[0m invalid syntax\n"
     ]
    }
   ],
   "source": [
    "class Solution():\n",
    "    def removeDuplicates(self, nums):\n",
    "        \"\"\"\n",
    "        :type nums: List[int]\n",
    "        :rtype: int\n",
    "        \"\"\"\n",
    "        k = 1\n",
    "        for i in range(len(nums)-1):\n",
    "             if nums[i] != nums[i+1]:\n",
    "                nums[k] = nums[i+1]\n",
    "                k += 1\n",
    "        return k\n",
    "    \n",
    "nums = [0,0,1,1,1,2,2,3,3,4]\n",
    "solution = Solution():\n",
    "k = solution.removeDuplicates(nums)\n",
    "print(k)"
   ]
  },
  {
   "cell_type": "code",
   "execution_count": null,
   "id": "55e07e1d",
   "metadata": {},
   "outputs": [],
   "source": []
  },
  {
   "cell_type": "code",
   "execution_count": null,
   "id": "6eb1778b",
   "metadata": {},
   "outputs": [],
   "source": []
  }
 ],
 "metadata": {
  "kernelspec": {
   "display_name": "Python 3",
   "language": "python",
   "name": "python3"
  },
  "language_info": {
   "codemirror_mode": {
    "name": "ipython",
    "version": 3
   },
   "file_extension": ".py",
   "mimetype": "text/x-python",
   "name": "python",
   "nbconvert_exporter": "python",
   "pygments_lexer": "ipython3",
   "version": "3.8.8"
  }
 },
 "nbformat": 4,
 "nbformat_minor": 5
}
